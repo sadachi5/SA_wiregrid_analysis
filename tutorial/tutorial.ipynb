{
 "cells": [
  {
   "cell_type": "markdown",
   "metadata": {},
   "source": [
    "# Tutorial to retrieve TOD & HWP angle via sa_pipeline"
   ]
  },
  {
   "cell_type": "markdown",
   "metadata": {},
   "source": [
    "### Import general libraries"
   ]
  },
  {
   "cell_type": "code",
   "execution_count": 96,
   "metadata": {},
   "outputs": [
    {
     "name": "stdout",
     "output_type": "stream",
     "text": [
      "/home/cmb/sadachi/analysis_2021\n",
      "/sw/cmb/polarbear/opt-202008/bin/python3\n",
      "3.8.5 (default, Aug 21 2020, 00:19:38) \n",
      "[GCC 9.3.0]\n"
     ]
    }
   ],
   "source": [
    "import os\n",
    "import sys\n",
    "import numpy as np\n",
    "topdir = os.environ['PWD']\n",
    "sys.path.append(os.path.join(os.path.dirname(topdir), '')) # Add top directory\n",
    "print(topdir)\n",
    "# plotting\n",
    "import matplotlib.pyplot as plt\n",
    "import matplotlib.dates as mdates\n",
    "%matplotlib inline \n",
    "# inline non-interactive mode\n",
    "# python kernel check\n",
    "print(sys.executable)\n",
    "print(sys.version)"
   ]
  },
  {
   "cell_type": "markdown",
   "metadata": {},
   "source": [
    "### Data run ID & time setting"
   ]
  },
  {
   "cell_type": "code",
   "execution_count": 3,
   "metadata": {},
   "outputs": [],
   "source": [
    "runID = 22300609\n",
    "subID = 0\n",
    "start = \"20210205_174900\";\n",
    "end   = \"20210205_175900\";"
   ]
  },
  {
   "cell_type": "markdown",
   "metadata": {},
   "source": [
    "### Get G3Time of start/end time"
   ]
  },
  {
   "cell_type": "code",
   "execution_count": 4,
   "metadata": {},
   "outputs": [
    {
     "name": "stdout",
     "output_type": "stream",
     "text": [
      "20210205_174900 = 59250.742361111115\n",
      "20210205_175900 = 59250.74930555555\n"
     ]
    }
   ],
   "source": [
    "from spt3g import core\n",
    "start_mjd = None if start==None else core.G3Time(start).mjd;\n",
    "end_mjd   = None if end  ==None else core.G3Time(end  ).mjd;\n",
    "\n",
    "print(f'{start} = {start_mjd}')\n",
    "print(f'{end} = {end_mjd}')"
   ]
  },
  {
   "cell_type": "markdown",
   "metadata": {},
   "source": [
    "###  Import simons_array_offline_software"
   ]
  },
  {
   "cell_type": "code",
   "execution_count": 17,
   "metadata": {},
   "outputs": [],
   "source": [
    "sys.path.append(os.path.join(os.path.dirname(topdir), './library/simons_array_offline_software'))\n",
    "# major pipeline libraries\n",
    "import simons_array_python.sa_pipeline_inputs as sa_pi;\n",
    "import simons_array_python.sa_observation as sa_ob;\n",
    "import simons_array_python.sa_pipeline_filters as sa_pf;\n",
    "# operator of time clip\n",
    "import simons_array_python.sa_timestream_operators as sa_op;\n",
    "# HWP angle calculator\n",
    "import simons_array_python.sa_hwp as sa_hwp;"
   ]
  },
  {
   "cell_type": "markdown",
   "metadata": {},
   "source": [
    "### Get detector list"
   ]
  },
  {
   "cell_type": "code",
   "execution_count": 7,
   "metadata": {},
   "outputs": [
    {
     "name": "stdout",
     "output_type": "stream",
     "text": [
      "all_detectors ['13.13_15.90T'] (1 bolos)\n"
     ]
    }
   ],
   "source": [
    "num_bolo = 1\n",
    "#num_bolo = 10\n",
    "#num_bolo = None # All bolos\n",
    "all_detectors = sa_op.gen_bolo_list()[:num_bolo] if num_bolo is not None else sa_op.gen_bolo_lis() # Only 1 bolos\n",
    "print(f'all_detectors {all_detectors} ({len(all_detectors)} bolos)');"
   ]
  },
  {
   "cell_type": "markdown",
   "metadata": {},
   "source": [
    "### Initialize observation (data class)"
   ]
  },
  {
   "cell_type": "code",
   "execution_count": 11,
   "metadata": {},
   "outputs": [
    {
     "name": "stdout",
     "output_type": "stream",
     "text": [
      "initialize observation\n"
     ]
    }
   ],
   "source": [
    "print('initialize observation')\n",
    "observation_tuple = (runID,subID);\n",
    "ob = sa_ob.Observation(observation_tuple)\n",
    "ob.detectors = all_detectors\n",
    "ob.load_metadata()"
   ]
  },
  {
   "cell_type": "markdown",
   "metadata": {},
   "source": [
    "### Initialize pipeline & operator to populate tod_list"
   ]
  },
  {
   "cell_type": "code",
   "execution_count": 13,
   "metadata": {},
   "outputs": [
    {
     "name": "stdout",
     "output_type": "stream",
     "text": [
      "dataload operation\n",
      "INFO: instantiating g3 data buffer from None\n",
      "Loading data from g3 files for run_id=22300609, run_subid=0 . . . \n",
      "INFO: Run22300609.0: reading following files: Run22300609_000.g3,Run22300609_001.g3,Run22300609_002.g3,Run22300609_003.g3,Run22300609_004.g3.\n",
      "INFO: Run22300609.0: frame (total, first, last)=(91, 2, 89).\n",
      "Setting input name to data\n",
      "Loading data from slowdaq files for run ID 22300609, run_subid 0 . . . \n"
     ]
    }
   ],
   "source": [
    "print('dataload operation')\n",
    "pi = sa_pi.InputLevel0CachedByObsID(all_detectors=all_detectors, n_per_cache=len(all_detectors), \n",
    "        load_g3=True, load_gcp=True,\n",
    "        load_slowdaq=True, load_hwp=True, \n",
    "        load_dets=True, ignore_faulty_frame=True, record_frame_time=True);\n",
    "op_dataload = sa_pf.OperatorDataInitializer(pi)\n",
    "op_dataload.filter_obs(ob)"
   ]
  },
  {
   "cell_type": "markdown",
   "metadata": {},
   "source": [
    "### Operator to clip the tod by time"
   ]
  },
  {
   "cell_type": "code",
   "execution_count": 15,
   "metadata": {},
   "outputs": [
    {
     "name": "stdout",
     "output_type": "stream",
     "text": [
      "time clip operation\n",
      "INFO: for Run 22300609.0, clipping points are (88762,180316).  Length: 408965 --> 91554.\n",
      "len_timestream = 3, total_len=408965, key=_tod_unit\n",
      "len_timestream = 0, total_len=408965, key=frame_faulty\n",
      "len_timestream = -1, total_len=408965, key=frame_total\n",
      "len_timestream = 4, total_len=408965, key=input_name\n",
      "len_timestream = 56575800, total_len=408965, key=whwp_clk_cnts\n",
      "len_timestream = 56575800, total_len=408965, key=whwp_encoder_cnts\n",
      "len_timestream = 5415, total_len=408965, key=whwp_clk_cnts_at_ref\n",
      "len_timestream = 5415, total_len=408965, key=whwp_encoder_cnts_at_ref\n",
      "len_timestream = 2707, total_len=408965, key=whwp_irig_start_clk_cnts\n",
      "len_timestream = 2707, total_len=408965, key=whwp_irig_start_times_mjd\n",
      "len_timestream = 80, total_len=408965, key=frame_antenna_time_mjd\n",
      "WARNING: Overwriting field name bolo_time in TOD\n",
      "WARNING: Overwriting field name bolo_G3Time in TOD\n",
      "len_timestream = 267800, total_len=408965, key=raw_acu_seq\n",
      "len_timestream = 267800, total_len=408965, key=raw_az_pos\n",
      "len_timestream = 267800, total_len=408965, key=raw_az_command\n",
      "len_timestream = 267800, total_len=408965, key=raw_az_rate\n",
      "len_timestream = 267800, total_len=408965, key=raw_az_rate_command\n",
      "len_timestream = 267800, total_len=408965, key=raw_el_pos\n",
      "len_timestream = 267800, total_len=408965, key=raw_el_command\n",
      "len_timestream = 267800, total_len=408965, key=raw_el_rate\n",
      "len_timestream = 267800, total_len=408965, key=raw_el_rate_command\n",
      "len_timestream = 267800, total_len=408965, key=raw_in_control\n",
      "len_timestream = 267800, total_len=408965, key=raw_scan_flag\n",
      "len_timestream = 267800, total_len=408965, key=raw_state\n",
      "len_timestream = 267800, total_len=408965, key=raw_antenna_time_mjd\n",
      "WARNING: Overwriting field name 13.13_15.90T-I in TOD\n",
      "WARNING: Overwriting field name 13.13_15.90T-Q in TOD\n"
     ]
    }
   ],
   "source": [
    "print('time clip operation')\n",
    "op_timeclip = sa_pf.OperatorClipBeginEnd(begin_mjd=start_mjd, end_mjd=end_mjd)\n",
    "op_timeclip.filter_obs(ob)"
   ]
  },
  {
   "cell_type": "markdown",
   "metadata": {},
   "source": [
    "### Operator for HWP angle"
   ]
  },
  {
   "cell_type": "code",
   "execution_count": 18,
   "metadata": {},
   "outputs": [
    {
     "name": "stdout",
     "output_type": "stream",
     "text": [
      "HWP operation\n",
      "Raw diff : median  768.0  , max  946  , min  590\n",
      "Raw diff : median  5.0  , max  4294901766  , min  3\n",
      "[]\n",
      "Overflow increment fail search, clk counts\n",
      "Overflow increment fail search, clk counts @ ref\n",
      "Overflow increment fail search, IRIG clk counts\n",
      "5415 5415\n",
      "5415 5415\n",
      "Number of overflows in TOD 4131.0 Expected time 2707.2921600000004 Real time 600.0017407815903\n",
      "Find approximate encoder count sample rate 20930.63984405458\n",
      "Number of ok ref holes 4735\n",
      "Warning: WHWP encoder may have error count by 1\n"
     ]
    }
   ],
   "source": [
    "print('HWP angle calculation')\n",
    "op_hwp = sa_hwp.HWPAngleCalculator(encoder_reference_angle=0.)\n",
    "op_hwp.filter_obs(ob)"
   ]
  },
  {
   "cell_type": "markdown",
   "metadata": {},
   "source": [
    "### Print TOD data"
   ]
  },
  {
   "cell_type": "code",
   "execution_count": 36,
   "metadata": {},
   "outputs": [
    {
     "name": "stdout",
     "output_type": "stream",
     "text": [
      "<simons_array_python.sa_observation.Observation object at 0x7fbf908f8ac0>\n",
      "<simons_array_python.sa_tod.TOD object at 0x7fbf908f8850> 1\n",
      "keys dict_keys(['_tod_unit', 'frame_faulty', 'frame_total', 'input_name', 'whwp_clk_cnts', 'whwp_encoder_cnts', 'whwp_clk_cnts_at_ref', 'whwp_encoder_cnts_at_ref', 'whwp_irig_start_clk_cnts', 'whwp_irig_start_times_mjd', 'frame_antenna_time_mjd', 'bolo_time', 'bolo_G3Time', 'raw_acu_seq', 'raw_az_pos', 'raw_az_command', 'raw_az_rate', 'raw_az_rate_command', 'raw_el_pos', 'raw_el_command', 'raw_el_rate', 'raw_el_rate_command', 'raw_in_control', 'raw_scan_flag', 'raw_state', 'raw_antenna_time_mjd', '13.13_15.90T-I', '13.13_15.90T-Q', 'hwp_ref_num_problem_samples', 'hwp_encoder_gap_indices', 'hwp_encoder_gap_times', 'hwp_angle'])\n",
      "times (size:91554) = [59250.74236113 59250.74236121 59250.74236128 ... 59250.74930545\n",
      " 59250.74930552 59250.7493056 ]\n",
      "bolo_times (size:91554) = [59250.74236113 59250.74236121 59250.74236128 ... 59250.74930545\n",
      " 59250.74930552 59250.7493056 ]\n",
      "raw_antenna_time_mjd (size:267800) = [59250.73562836 59250.73562847 59250.73562859 ... 59250.76664873\n",
      " 59250.76664884 59250.76664896]\n",
      "raw_az_pos (size:267800) = [1.2217213 1.2217213 1.2217213 ... 1.2217277 1.2217277 1.2217277]\n",
      "TOD (13.13_15.90T-I) (size:91554) = [52400. 52365. 52331. ... 52449. 52450. 52456.]\n",
      "HWP angle (size:91554) = [4.26587276 4.34816596 4.43045915 ... 5.99748887 6.08003339 6.16257791]\n"
     ]
    }
   ],
   "source": [
    "print(ob)\n",
    "tod = ob.tod_list[0];\n",
    "print(tod, len(ob.tod_list))\n",
    "print('keys',tod.cache.keys());\n",
    "def printlist(list_data, list_name): print(f'{list_name} (size:{len(list_data)}) = {list_data}');\n",
    "printlist(tod.read_times(), 'times');\n",
    "printlist(tod.read('bolo_time'), 'bolo_times');\n",
    "printlist(tod.read('raw_antenna_time_mjd'), 'raw_antenna_time_mjd');\n",
    "printlist(tod.read('raw_az_pos'), 'raw_az_pos');\n",
    "printlist(tod.read('13.13_15.90T-I'), 'TOD (13.13_15.90T-I)');\n",
    "printlist(tod.read('hwp_angle'), 'HWP angle');"
   ]
  },
  {
   "cell_type": "markdown",
   "metadata": {},
   "source": [
    "### Plot TOD data "
   ]
  },
  {
   "cell_type": "code",
   "execution_count": 110,
   "metadata": {},
   "outputs": [
    {
     "data": {
      "image/png": "[encoded data removed]",
      "text/plain": [
       "<Figure size 576x864 with 3 Axes>"
      ]
     },
     "metadata": {
      "needs_background": "light"
     },
     "output_type": "display_data"
    }
   ],
   "source": [
    "# Get data arrays\n",
    "time = tod.read('bolo_time')\n",
    "antenna_time = tod.read('raw_antenna_time_mjd')\n",
    "bolo_data = tod.read('13.13_15.90T-I')\n",
    "az_pos = tod.read('raw_az_pos')\n",
    "hwp_angle = tod.read('hwp_angle')\n",
    "\n",
    "# Convert\n",
    "hwp_angle = hwp_angle * 180./np.pi # rad --> deg\n",
    "az_pos = az_pos * 180./np.pi # rad --> deg\n",
    "\n",
    "# Make figure (Nrow)\n",
    "Nrow = 3; \n",
    "fig, axs = plt.subplots(Nrow,1);\n",
    "fig.set_size_inches(8*1,4*Nrow);\n",
    "plt.subplots_adjust(wspace=0.5, hspace=0.7, left=0.15, right=0.95,bottom=0.20, top=0.80)\n",
    "    \n",
    "# Bolometer TOD\n",
    "ax = axs[0]\n",
    "ax.plot(time, bolo_data, label='bolometer')\n",
    "ax.grid(True)\n",
    "ax.set_xlabel('Date Time')\n",
    "ax.set_ylabel('Bolometer ADC')\n",
    "ax.set_title('Bolometer ADC')\n",
    "ax.xaxis.set_major_formatter(mdates.DateFormatter('%H:%M:%S'))\n",
    "ax.tick_params(axis='x',labelrotation=30,labelsize=10);\n",
    "\n",
    "#  HWP angle\n",
    "ax = axs[1]\n",
    "ax.plot(time, hwp_angle, label='HWP angle')\n",
    "ax.grid(True)\n",
    "ax.set_xlabel('Date Time')\n",
    "ax.set_ylabel('HWP angle [deg]')\n",
    "ax.set_title('HWP angle [deg]')\n",
    "ax.xaxis.set_major_formatter(mdates.DateFormatter('%H:%M:%S'))\n",
    "ax.tick_params(axis='x',labelrotation=30,labelsize=10);\n",
    "\n",
    "# Azimuth position\n",
    "ax = axs[2]\n",
    "ax.plot(antenna_time, az_pos, label='bolometer')\n",
    "ax.grid(True)\n",
    "ax.set_xlabel('Date Time')\n",
    "ax.set_ylabel('Azimuth Position [deg]')\n",
    "ax.set_title('Azimuth Position [deg]')\n",
    "ax.xaxis.set_major_formatter(mdates.DateFormatter('%H:%M:%S'))\n",
    "ax.tick_params(axis='x',labelrotation=30,labelsize=10);\n",
    "\n",
    "\n",
    "# Zoom-in a narrow time range\n",
    "def sec_to_mjd(sec): return sec * 1./(60.*60.*24) # 1 mjd = 1 day\n",
    "sec_span = 10; # sec\n",
    "t_start = time[0]\n",
    "t_end   = time[0]+sec_to_mjd(sec_span)\n",
    "for ax in axs: ax.set_xlim(t_start, t_end);"
   ]
  },
  {
   "cell_type": "code",
   "execution_count": null,
   "metadata": {},
   "outputs": [],
   "source": [
    "\n",
    "\n",
    "\n",
    "\n",
    "\n",
    "\n",
    "\n",
    "\n",
    "\n",
    "\n",
    "\n",
    "\n",
    "\n",
    "\n",
    "\n",
    "\n",
    "\n",
    "\n",
    "\n",
    "\n",
    "\n",
    "\n",
    "\n",
    "\n",
    "\n",
    "\n",
    "\n",
    "\n",
    "\n",
    "\n",
    "\n",
    "\n",
    "\n"
   ]
  }
 ],
 "metadata": {
  "kernelspec": {
   "display_name": "python3-my",
   "language": "python",
   "name": "python3-my"
  },
  "language_info": {
   "codemirror_mode": {
    "name": "ipython",
    "version": 3
   },
   "file_extension": ".py",
   "mimetype": "text/x-python",
   "name": "python",
   "nbconvert_exporter": "python",
   "pygments_lexer": "ipython3",
   "version": "3.8.5"
  }
 },
 "nbformat": 4,
 "nbformat_minor": 2
}
