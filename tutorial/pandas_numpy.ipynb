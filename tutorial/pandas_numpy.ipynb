{
 "cells": [
  {
   "cell_type": "code",
   "execution_count": 92,
   "metadata": {},
   "outputs": [],
   "source": [
    "import pandas as pd\n",
    "import numpy as np"
   ]
  },
  {
   "cell_type": "code",
   "execution_count": 93,
   "metadata": {},
   "outputs": [],
   "source": [
    "df1 = pd.DataFrame({'A': ['A0', np.nan, 'A2', 'A3', ''],\n",
    "                    'B': [np.nan, 'B1', 'B2', 'B3', 'B4'],\n",
    "                    'D': [0,1,2,3,4],\n",
    "                   })\n",
    "\n",
    "df2 = pd.DataFrame({'A': ['A0', 'A1', np.nan, np.nan],\n",
    "                    'C': ['C0', 'C1', 'C2', np.nan],\n",
    "                   })"
   ]
  },
  {
   "cell_type": "code",
   "execution_count": 94,
   "metadata": {},
   "outputs": [
    {
     "name": "stdout",
     "output_type": "stream",
     "text": [
      "     A    B  D\n",
      "0   A0  NaN  0\n",
      "1  NaN   B1  1\n",
      "2   A2   B2  2\n",
      "3   A3   B3  3\n",
      "4        B4  4\n"
     ]
    }
   ],
   "source": [
    "print(df1)"
   ]
  },
  {
   "cell_type": "code",
   "execution_count": 95,
   "metadata": {},
   "outputs": [
    {
     "name": "stdout",
     "output_type": "stream",
     "text": [
      "     A    C\n",
      "0   A0   C0\n",
      "1   A1   C1\n",
      "2  NaN   C2\n",
      "3  NaN  NaN\n"
     ]
    }
   ],
   "source": [
    "print(df2)"
   ]
  },
  {
   "cell_type": "code",
   "execution_count": 96,
   "metadata": {},
   "outputs": [
    {
     "name": "stdout",
     "output_type": "stream",
     "text": [
      "     A    B    D    C\n",
      "0   A0  NaN  0.0   C0\n",
      "1   A1  NaN  NaN   C1\n",
      "2  NaN   B1  1.0   C2\n",
      "3  NaN   B1  1.0  NaN\n"
     ]
    }
   ],
   "source": [
    "dfmerge = pd.merge(df1, df2, how='right', on='A')\n",
    "print(dfmerge)"
   ]
  },
  {
   "cell_type": "code",
   "execution_count": 97,
   "metadata": {},
   "outputs": [],
   "source": [
    "dfmerge2 = dfmerge.dropna(subset=['A'])"
   ]
  },
  {
   "cell_type": "code",
   "execution_count": 98,
   "metadata": {},
   "outputs": [
    {
     "name": "stdout",
     "output_type": "stream",
     "text": [
      "     A    B    D    C\n",
      "0   A0  NaN  0.0   C0\n",
      "1   A1  NaN  NaN   C1\n",
      "2  NaN   B1  1.0   C2\n",
      "3  NaN   B1  1.0  NaN\n",
      "    A    B    D   C\n",
      "0  A0  NaN  0.0  C0\n",
      "1  A1  NaN  NaN  C1\n"
     ]
    }
   ],
   "source": [
    "print(dfmerge)\n",
    "print(dfmerge2)"
   ]
  },
  {
   "cell_type": "code",
   "execution_count": 99,
   "metadata": {
    "scrolled": false
   },
   "outputs": [
    {
     "data": {
      "text/plain": [
       "0    False\n",
       "1    False\n",
       "2     True\n",
       "3     True\n",
       "Name: A, dtype: bool"
      ]
     },
     "execution_count": 99,
     "metadata": {},
     "output_type": "execute_result"
    }
   ],
   "source": [
    "# Count # of NaN\n",
    "dfmerge['A'].isnull()"
   ]
  },
  {
   "cell_type": "code",
   "execution_count": 100,
   "metadata": {},
   "outputs": [
    {
     "name": "stdout",
     "output_type": "stream",
     "text": [
      "['A0' nan]\n"
     ]
    }
   ],
   "source": [
    "ar = np.array(df1['A'])\n",
    "ind = [0,1]\n",
    "print(ar[ind])"
   ]
  },
  {
   "cell_type": "code",
   "execution_count": 101,
   "metadata": {},
   "outputs": [],
   "source": [
    "ls = [1,2,3,4]\n",
    "# print(ls[ind]) # --> Error"
   ]
  },
  {
   "cell_type": "code",
   "execution_count": 102,
   "metadata": {},
   "outputs": [
    {
     "data": {
      "text/plain": [
       "array([1., 1., 1.])"
      ]
     },
     "execution_count": 102,
     "metadata": {},
     "output_type": "execute_result"
    }
   ],
   "source": [
    "np.full(3,1.)"
   ]
  },
  {
   "cell_type": "code",
   "execution_count": 103,
   "metadata": {},
   "outputs": [
    {
     "data": {
      "text/html": [
       "<div>\n",
       "<style scoped>\n",
       "    .dataframe tbody tr th:only-of-type {\n",
       "        vertical-align: middle;\n",
       "    }\n",
       "\n",
       "    .dataframe tbody tr th {\n",
       "        vertical-align: top;\n",
       "    }\n",
       "\n",
       "    .dataframe thead th {\n",
       "        text-align: right;\n",
       "    }\n",
       "</style>\n",
       "<table border=\"1\" class=\"dataframe\">\n",
       "  <thead>\n",
       "    <tr style=\"text-align: right;\">\n",
       "      <th></th>\n",
       "      <th>A</th>\n",
       "      <th>B</th>\n",
       "      <th>D</th>\n",
       "    </tr>\n",
       "  </thead>\n",
       "  <tbody>\n",
       "    <tr>\n",
       "      <th>1</th>\n",
       "      <td>NaN</td>\n",
       "      <td>B1</td>\n",
       "      <td>1</td>\n",
       "    </tr>\n",
       "    <tr>\n",
       "      <th>4</th>\n",
       "      <td></td>\n",
       "      <td>B4</td>\n",
       "      <td>4</td>\n",
       "    </tr>\n",
       "  </tbody>\n",
       "</table>\n",
       "</div>"
      ],
      "text/plain": [
       "     A   B  D\n",
       "1  NaN  B1  1\n",
       "4       B4  4"
      ]
     },
     "execution_count": 103,
     "metadata": {},
     "output_type": "execute_result"
    }
   ],
   "source": [
    "df1.query('A!=A | A.str.len()==0')"
   ]
  },
  {
   "cell_type": "code",
   "execution_count": 168,
   "metadata": {},
   "outputs": [
    {
     "name": "stdout",
     "output_type": "stream",
     "text": [
      "0     A0\n",
      "1    NaN\n",
      "2     A2\n",
      "3     A3\n",
      "4       \n",
      "Name: A, dtype: object\n",
      "  0     1\n",
      "0       0\n",
      "2       2\n",
      "3       3\n",
      "4    None\n"
     ]
    }
   ],
   "source": [
    "print(df1['A'])\n",
    "a=df1.dropna(subset=['A'])['A'].str.split('A',expand=True)\n",
    "print(a)"
   ]
  },
  {
   "cell_type": "code",
   "execution_count": 173,
   "metadata": {
    "scrolled": true
   },
   "outputs": [
    {
     "name": "stdout",
     "output_type": "stream",
     "text": [
      "0    A0.0    0\\n1    1\\n2    2\\n3    3\\n4    4\\nNam...\n",
      "1                                                  NaN\n",
      "2    A2.0    0\\n1    1\\n2    2\\n3    3\\n4    4\\nNam...\n",
      "3    A3.0    0\\n1    1\\n2    2\\n3    3\\n4    4\\nNam...\n",
      "4    .0    0\\n1    1\\n2    2\\n3    3\\n4    4\\nName:...\n",
      "Name: A, dtype: object\n",
      "5\n",
      "(5,)\n"
     ]
    }
   ],
   "source": [
    "print(names)\n",
    "print(len(names))\n",
    "print(names.shape)"
   ]
  },
  {
   "cell_type": "code",
   "execution_count": 174,
   "metadata": {},
   "outputs": [
    {
     "name": "stdout",
     "output_type": "stream",
     "text": [
      "A0+0\n",
      "nan+1\n",
      "A2+2\n",
      "A3+3\n",
      "+4\n"
     ]
    }
   ],
   "source": [
    "for a, b in zip(df1['A'],df1['D']):\n",
    "    #print(a,b)\n",
    "    print('{}+{}'.format(a,b))\n",
    "    pass;"
   ]
  },
  {
   "cell_type": "code",
   "execution_count": 175,
   "metadata": {},
   "outputs": [
    {
     "data": {
      "text/plain": [
       "0    False\n",
       "1    False\n",
       "2    False\n",
       "3    False\n",
       "4    False\n",
       "Name: A, dtype: bool"
      ]
     },
     "execution_count": 175,
     "metadata": {},
     "output_type": "execute_result"
    }
   ],
   "source": [
    "df1['A'] == np.array(['A1',1,1,1,1])"
   ]
  },
  {
   "cell_type": "code",
   "execution_count": 179,
   "metadata": {},
   "outputs": [],
   "source": [
    "a=np.array([1,2,3])"
   ]
  },
  {
   "cell_type": "code",
   "execution_count": 186,
   "metadata": {},
   "outputs": [
    {
     "data": {
      "text/plain": [
       "array([], dtype=int64)"
      ]
     },
     "execution_count": 186,
     "metadata": {},
     "output_type": "execute_result"
    }
   ],
   "source": [
    "np.delete(a, np.where(~np.isnan(a)))"
   ]
  },
  {
   "cell_type": "code",
   "execution_count": null,
   "metadata": {},
   "outputs": [],
   "source": []
  },
  {
   "cell_type": "code",
   "execution_count": null,
   "metadata": {},
   "outputs": [],
   "source": []
  }
 ],
 "metadata": {
  "kernelspec": {
   "display_name": "python3-my",
   "language": "python",
   "name": "python3-my"
  },
  "language_info": {
   "codemirror_mode": {
    "name": "ipython",
    "version": 3
   },
   "file_extension": ".py",
   "mimetype": "text/x-python",
   "name": "python",
   "nbconvert_exporter": "python",
   "pygments_lexer": "ipython3",
   "version": "3.8.5"
  }
 },
 "nbformat": 4,
 "nbformat_minor": 2
}
