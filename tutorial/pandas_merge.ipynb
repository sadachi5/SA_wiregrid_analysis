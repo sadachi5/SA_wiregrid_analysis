{
 "cells": [
  {
   "cell_type": "code",
   "execution_count": 42,
   "metadata": {},
   "outputs": [],
   "source": [
    "import pandas as pd\n",
    "import numpy as np"
   ]
  },
  {
   "cell_type": "code",
   "execution_count": 66,
   "metadata": {},
   "outputs": [],
   "source": [
    "df1 = pd.DataFrame({'A': ['A0', 'A1', 'A2', 'A3'],\n",
    "                    'B': [np.nan, 'B1', 'B2', 'B3'],\n",
    "                   })\n",
    "\n",
    "df2 = pd.DataFrame({'A': ['A0', 'A1', np.nan, np.nan],\n",
    "                    'C': ['C0', 'C1', 'C2', np.nan],\n",
    "                   })"
   ]
  },
  {
   "cell_type": "code",
   "execution_count": 67,
   "metadata": {},
   "outputs": [
    {
     "name": "stdout",
     "output_type": "stream",
     "text": [
      "    A    B\n",
      "0  A0  NaN\n",
      "1  A1   B1\n",
      "2  A2   B2\n",
      "3  A3   B3\n"
     ]
    }
   ],
   "source": [
    "print(df1)"
   ]
  },
  {
   "cell_type": "code",
   "execution_count": 68,
   "metadata": {},
   "outputs": [
    {
     "name": "stdout",
     "output_type": "stream",
     "text": [
      "     A    C\n",
      "0   A0   C0\n",
      "1   A1   C1\n",
      "2  NaN   C2\n",
      "3  NaN  NaN\n"
     ]
    }
   ],
   "source": [
    "print(df2)"
   ]
  },
  {
   "cell_type": "code",
   "execution_count": 69,
   "metadata": {},
   "outputs": [
    {
     "name": "stdout",
     "output_type": "stream",
     "text": [
      "     A    B    C\n",
      "0   A0  NaN   C0\n",
      "1   A1   B1   C1\n",
      "2  NaN  NaN   C2\n",
      "3  NaN  NaN  NaN\n"
     ]
    }
   ],
   "source": [
    "dfmerge = pd.merge(df1, df2, how='right', on='A')\n",
    "print(dfmerge)"
   ]
  },
  {
   "cell_type": "code",
   "execution_count": 77,
   "metadata": {},
   "outputs": [],
   "source": [
    "dfmerge2 = dfmerge.dropna(subset=['A'])"
   ]
  },
  {
   "cell_type": "code",
   "execution_count": 78,
   "metadata": {},
   "outputs": [
    {
     "name": "stdout",
     "output_type": "stream",
     "text": [
      "     A    B    C\n",
      "0   A0  NaN   C0\n",
      "1   A1   B1   C1\n",
      "2  NaN  NaN   C2\n",
      "3  NaN  NaN  NaN\n",
      "    A    B   C\n",
      "0  A0  NaN  C0\n",
      "1  A1   B1  C1\n"
     ]
    }
   ],
   "source": [
    "print(dfmerge)\n",
    "print(dfmerge2)"
   ]
  },
  {
   "cell_type": "code",
   "execution_count": 114,
   "metadata": {},
   "outputs": [
    {
     "data": {
      "text/plain": [
       "0    False\n",
       "1    False\n",
       "2     True\n",
       "3     True\n",
       "Name: A, dtype: bool"
      ]
     },
     "execution_count": 114,
     "metadata": {},
     "output_type": "execute_result"
    }
   ],
   "source": [
    "# Count # of NaN\n",
    "dfmerge['A'].isnull()"
   ]
  }
 ],
 "metadata": {
  "kernelspec": {
   "display_name": "python3-my",
   "language": "python",
   "name": "python3-my"
  },
  "language_info": {
   "codemirror_mode": {
    "name": "ipython",
    "version": 3
   },
   "file_extension": ".py",
   "mimetype": "text/x-python",
   "name": "python",
   "nbconvert_exporter": "python",
   "pygments_lexer": "ipython3",
   "version": "3.8.5"
  }
 },
 "nbformat": 4,
 "nbformat_minor": 2
}
